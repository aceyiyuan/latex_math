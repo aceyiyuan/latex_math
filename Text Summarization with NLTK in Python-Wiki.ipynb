{
 "cells": [
  {
   "cell_type": "code",
   "execution_count": 1,
   "metadata": {},
   "outputs": [
    {
     "name": "stderr",
     "output_type": "stream",
     "text": [
      "[nltk_data] Downloading package punkt to /Users/yiyuan/nltk_data...\n",
      "[nltk_data]   Package punkt is already up-to-date!\n"
     ]
    }
   ],
   "source": [
    "#pip install beautifulsoup4\n",
    "#pip install lxml\n",
    "\n",
    "import bs4 as bs\n",
    "import urllib.request\n",
    "import re\n",
    "import nltk\n",
    "nltk.download('punkt')\n",
    "\n",
    "scraped_data = urllib.request.urlopen('https://en.wikipedia.org/wiki/Sapiens:_A_Brief_History_of_Humankind')\n",
    "article = scraped_data.read()\n",
    "\n",
    "parsed_article = bs.BeautifulSoup(article,'lxml')\n",
    "\n",
    "paragraphs = parsed_article.find_all('p')\n",
    "\n",
    "article_text = \"\"\n",
    "\n",
    "for p in paragraphs:\n",
    "    article_text += p.text"
   ]
  },
  {
   "cell_type": "code",
   "execution_count": 2,
   "metadata": {},
   "outputs": [],
   "source": [
    "#print(parsed_article)"
   ]
  },
  {
   "cell_type": "code",
   "execution_count": 3,
   "metadata": {},
   "outputs": [],
   "source": [
    "# Removing Square Brackets and Extra Spaces\n",
    "article_text = re.sub(r'\\[[0-9]*\\]', ' ', article_text)\n",
    "article_text = re.sub(r'\\s+', ' ', article_text)"
   ]
  },
  {
   "cell_type": "code",
   "execution_count": 4,
   "metadata": {},
   "outputs": [],
   "source": [
    "# Removing special characters and digits\n",
    "formatted_article_text = re.sub('[^a-zA-Z]', ' ', article_text )\n",
    "formatted_article_text = re.sub(r'\\s+', ' ', formatted_article_text)"
   ]
  },
  {
   "cell_type": "code",
   "execution_count": 5,
   "metadata": {},
   "outputs": [
    {
     "name": "stdout",
     "output_type": "stream",
     "text": [
      "['Sapiens: A Brief History of Humankind (Hebrew: קיצור תולדות האנושות\\u200e, [Ḳitsur toldot ha-enoshut]) is a book by Yuval Noah Harari first published in Hebrew in Israel in 2011, and in English in 2014.', 'The book surveys the history of humankind from the evolution of archaic human species in the Stone Age up to the twenty-first century, focusing on Homo sapiens.', 'The account is situated within a framework provided by the natural sciences, particularly evolutionary biology.', 'The reception of the book has been mixed.', \"Whereas the general public's reaction to the book has been positive, scholars with relevant subject matter expertise have been very critical of the book.\", \"Harari's work situates its account of human history within a framework provided by the natural sciences, particularly evolutionary biology: he sees biology as setting the limits of possibility for human activity, and sees culture as shaping what happens within those bounds.\", 'The academic discipline of history is the account of cultural change.', 'Harari surveys the history of humankind from the evolution of archaic human species in the Stone Age up to the twenty-first century, focusing on Homo sapiens.', \"He divides the history of Sapiens into four major parts: Harari's main argument is that Sapiens came to dominate the world because it is the only animal that can cooperate flexibly in large numbers.\", 'He argues that prehistoric Sapiens were a key cause of the extinction of other human species such as the Neanderthals, along with numerous other megafauna.', 'He further argues that the ability of Sapiens to cooperate in large numbers arises from its unique capacity to believe in things existing purely in the imagination, such as gods, nations, money, and human rights.', 'He argues that these beliefs give rise to discrimination – whether that be racial,sexual or political and it is potentially impossible to have a completely unbiased society.', \"Harari claims that all large-scale human cooperation systems – including religions, political structures, trade networks, and legal institutions – owe their emergence to Sapiens' distinctive cognitive capacity for fiction.\", 'Accordingly, Harari regards money as a system of mutual trust and sees political and economic systems as more or less identical with religions.', \"Harari's key claim regarding the Agricultural Revolution is that while it promoted population growth for Sapiens and co-evolving species like wheat and cows, it made the lives of most individuals (and animals) worse than they had been when Sapiens were mostly hunter-gatherers, since their diet and daily lives became significantly less varied.\", \"Humans' violent treatment of other animals is indeed a theme that runs throughout the book.\", 'In discussing the unification of humankind, Harari argues that over its history, the trend for Sapiens has increasingly been towards political and economic interdependence.', 'For centuries, the majority of humans have lived in empires, and capitalist globalization is effectively producing one, global empire.', 'Harari argues that money, empires, and universal religions are the principal drivers of this process.', 'Harari sees the Scientific Revolution as founded on innovation in European thought, whereby elites became willing to admit to, and hence to try to remedy, their ignorance.', 'He sees this as one driver of early modern European imperialism and of the current convergence of human cultures.', 'Harari also emphasises the lack of research into the history of happiness, positing that people today are not significantly happier than in past eras.', 'He concludes by considering how modern technology may soon end the species as we know it, as it ushers in genetic engineering, immortality, and non-organic life.', \"Humans have, in Harari's chosen metaphor, become gods: they can create species.\", 'Harari cites Jared Diamond\\'s Guns, Germs, and Steel (1997) as one of the greatest inspirations for the book by showing that it was possible to \"ask very big questions and answer them scientifically\".', 'First published in Hebrew in 2011 and then in English in 2014, the book was translated into 45 languages (as of June 2017).', \"It also made to The New York Times best-seller list and won the National Library of China's Wenjin Book Award for the best book published in 2014.\", 'Writing four years after its English-language publication, Alex Preston wrote in The Guardian that Sapiens had become a \"publishing phenomenon\" with \"wild success\" symptomatic of a broader trend toward \"intelligent, challenging nonfiction, often books that are several years old\".', 'Concurrently, The Guardian listed the book as among the ten \"best brainy books of the decade\".', 'The Royal Society of Biologists in the UK shortlisted the book in its 2015 Book Awards.', 'Bill Gates ranked Sapiens among his ten favorite books.', 'Anthropologist Christopher Robert Hallpike reviewed the book and did not find any \"serious contribution to knowledge\".', 'Hallpike suggested that \"...whenever his facts are broadly correct they are not new, and whenever he tries to strike out on his own he often gets things wrong, sometimes seriously\".', 'He considered it an infotainment publishing event offering a \"wild intellectual ride across the landscape of history, dotted with sensational displays of speculation, and ending with blood-curdling predictions about human destiny.\"', 'Science journalist Charles C. Mann concluded in The Wall Street Journal, \"There’s a whiff of dorm-room bull sessions about the author’s stimulating but often unsourced assertions.\"', 'Reviewing the book in The Washington Post, evolutionary anthropologist Avi Tuschman points out problems stemming from the contradiction between Harari\\'s \"freethinking scientific mind\" and his \"fuzzier worldview hobbled by political correctness\", but nonetheless wrote that \"Harari’s book is important reading for serious-minded, self-reflective sapiens.\"', 'Reviewing the book in The Guardian, philosopher Galen Strawson concluded that among several other problems, \"Much of Sapiens is extremely interesting, and it is often well expressed.', 'As one reads on, however, the attractive features of the book are overwhelmed by carelessness, exaggeration and sensationalism.\"', 'Reviewing the book in The New Atlantis, John Sexton, graduate student at the University of Chicago, concluded that \"The book is fundamentally unserious and undeserving of the wide acclaim and attention it has been receiving\".', 'The original Hebrew publication was first issued in 2011 as קיצור תולדות האנושות [Ḳitsur toldot ha-enoshut] (Or Yehuda: Kinneret, Zmora-Bitan, Dvir).', 'The English translation was first published in 2014 as Yuval Noah Harari, Sapiens: A Brief History of Humankind, \"translated by the author with the help of John Purcell and Haim Watzman\", simultaneously in London by Harvill Secker ISBN 9781846558238 (hardback), ISBN 9781846558245 (trade paperback) and in Canada by Signal (ISBN 978-0-7710-3850-1 (bound), ISBN 978-0-7710-3852-5 (html)).', 'It was then republished under the same title but without the information about the translators in London by Vintage Books, apparently in 2015 (ISBN 9780099590088 (paperback)).']\n"
     ]
    }
   ],
   "source": [
    "\n",
    "sentence_list = nltk.sent_tokenize(article_text)\n",
    "print(sentence_list)\n",
    "#Note: There are several sentences in the beginning part do not exit on wikipage (abstractive ?x) \n",
    "#(page update? --checked, not related, the webpage was visited around 15 days ago)\n"
   ]
  },
  {
   "cell_type": "code",
   "execution_count": 5,
   "metadata": {},
   "outputs": [],
   "source": [
    "stopwords = nltk.corpus.stopwords.words('english')\n",
    "\n",
    "word_frequencies = {}\n",
    "for word in nltk.word_tokenize(formatted_article_text):\n",
    "    if word not in stopwords:\n",
    "        if word not in word_frequencies.keys():\n",
    "            word_frequencies[word] = 1\n",
    "        else:\n",
    "            word_frequencies[word] += 1"
   ]
  },
  {
   "cell_type": "code",
   "execution_count": 6,
   "metadata": {},
   "outputs": [],
   "source": [
    "maximum_frequncy = max(word_frequencies.values())\n",
    "\n",
    "for word in word_frequencies.keys():\n",
    "    word_frequencies[word] = (word_frequencies[word]/maximum_frequncy)"
   ]
  },
  {
   "cell_type": "code",
   "execution_count": 7,
   "metadata": {},
   "outputs": [],
   "source": [
    "sentence_scores = {}\n",
    "for sent in sentence_list:\n",
    "    for word in nltk.word_tokenize(sent.lower()):\n",
    "        if word in word_frequencies.keys():\n",
    "            if len(sent.split(' ')) < 30:\n",
    "                if sent not in sentence_scores.keys():\n",
    "                    sentence_scores[sent] = word_frequencies[word]\n",
    "                else:\n",
    "                    sentence_scores[sent] += word_frequencies[word]\n"
   ]
  },
  {
   "cell_type": "code",
   "execution_count": 8,
   "metadata": {},
   "outputs": [
    {
     "name": "stdout",
     "output_type": "stream",
     "text": [
      "The book surveys the history of humankind from the evolution of archaic human species in the Stone Age up to the twenty-first century, focusing on Homo sapiens. It also made to The New York Times best-seller list and won the National Library of China's Wenjin Book Award for the best book published in 2014. Whereas the general public's reaction to the book has been positive, scholars with relevant subject matter expertise have been very critical of the book. Reviewing the book in The Guardian, philosopher Galen Strawson concluded that among several other problems, \"Much of Sapiens is extremely interesting, and it is often well expressed. Harari surveys the history of humankind from the evolution of archaic human species in the Stone Age up to the twenty-first century, focusing on Homo sapiens. Harari claims that all large-scale human cooperation systems – including religions, political structures, trade networks, and legal institutions – owe their emergence to Sapiens' distinctive cognitive capacity for fiction. The Royal Society of Biologists in the UK shortlisted the book in its 2015 Book Awards.\n"
     ]
    }
   ],
   "source": [
    "import heapq\n",
    "summary_sentences = heapq.nlargest(7, sentence_scores, key=sentence_scores.get)\n",
    "\n",
    "summary = ' '.join(summary_sentences)\n",
    "print(summary)"
   ]
  },
  {
   "cell_type": "code",
   "execution_count": null,
   "metadata": {},
   "outputs": [],
   "source": []
  },
  {
   "cell_type": "code",
   "execution_count": null,
   "metadata": {},
   "outputs": [],
   "source": []
  },
  {
   "cell_type": "code",
   "execution_count": null,
   "metadata": {},
   "outputs": [],
   "source": []
  }
 ],
 "metadata": {
  "kernelspec": {
   "display_name": "Python 3",
   "language": "python",
   "name": "python3"
  },
  "language_info": {
   "codemirror_mode": {
    "name": "ipython",
    "version": 3
   },
   "file_extension": ".py",
   "mimetype": "text/x-python",
   "name": "python",
   "nbconvert_exporter": "python",
   "pygments_lexer": "ipython3",
   "version": "3.7.4"
  },
  "latex_envs": {
   "LaTeX_envs_menu_present": true,
   "autoclose": false,
   "autocomplete": true,
   "bibliofile": "biblio.bib",
   "cite_by": "apalike",
   "current_citInitial": 1,
   "eqLabelWithNumbers": true,
   "eqNumInitial": 1,
   "hotkeys": {
    "equation": "Ctrl-E",
    "itemize": "Ctrl-I"
   },
   "labels_anchors": false,
   "latex_user_defs": false,
   "report_style_numbering": false,
   "user_envs_cfg": false
  },
  "toc": {
   "base_numbering": 1,
   "nav_menu": {},
   "number_sections": true,
   "sideBar": true,
   "skip_h1_title": false,
   "title_cell": "Table of Contents",
   "title_sidebar": "Contents",
   "toc_cell": false,
   "toc_position": {},
   "toc_section_display": true,
   "toc_window_display": true
  }
 },
 "nbformat": 4,
 "nbformat_minor": 2
}
