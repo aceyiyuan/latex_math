{
 "cells": [
  {
   "cell_type": "code",
   "execution_count": 10,
   "metadata": {},
   "outputs": [
    {
     "ename": "FileNotFoundError",
     "evalue": "[Errno 2] No such file or directory: 'mediawiki.xml'",
     "output_type": "error",
     "traceback": [
      "\u001b[0;31m---------------------------------------------------------------------------\u001b[0m",
      "\u001b[0;31mFileNotFoundError\u001b[0m                         Traceback (most recent call last)",
      "\u001b[0;32m<ipython-input-10-8d5949e009c1>\u001b[0m in \u001b[0;36m<module>\u001b[0;34m\u001b[0m\n\u001b[1;32m      6\u001b[0m \u001b[0;32mimport\u001b[0m \u001b[0mos\u001b[0m\u001b[0;34m\u001b[0m\u001b[0;34m\u001b[0m\u001b[0m\n\u001b[1;32m      7\u001b[0m \u001b[0;34m\u001b[0m\u001b[0m\n\u001b[0;32m----> 8\u001b[0;31m \u001b[0mtree\u001b[0m \u001b[0;34m=\u001b[0m \u001b[0mET\u001b[0m\u001b[0;34m.\u001b[0m\u001b[0mparse\u001b[0m\u001b[0;34m(\u001b[0m\u001b[0;34m'mediawiki.xml'\u001b[0m\u001b[0;34m)\u001b[0m\u001b[0;34m\u001b[0m\u001b[0;34m\u001b[0m\u001b[0m\n\u001b[0m\u001b[1;32m      9\u001b[0m \u001b[0mroot\u001b[0m \u001b[0;34m=\u001b[0m \u001b[0mtree\u001b[0m\u001b[0;34m.\u001b[0m\u001b[0mgetroot\u001b[0m\u001b[0;34m(\u001b[0m\u001b[0;34m)\u001b[0m\u001b[0;34m\u001b[0m\u001b[0;34m\u001b[0m\u001b[0m\n\u001b[1;32m     10\u001b[0m \u001b[0mpath\u001b[0m \u001b[0;34m=\u001b[0m \u001b[0;34m'articles-corpus//'\u001b[0m\u001b[0;34m\u001b[0m\u001b[0;34m\u001b[0m\u001b[0m\n",
      "\u001b[0;32m/usr/local/Cellar/python/3.7.4/Frameworks/Python.framework/Versions/3.7/lib/python3.7/xml/etree/ElementTree.py\u001b[0m in \u001b[0;36mparse\u001b[0;34m(source, parser)\u001b[0m\n\u001b[1;32m   1195\u001b[0m     \"\"\"\n\u001b[1;32m   1196\u001b[0m     \u001b[0mtree\u001b[0m \u001b[0;34m=\u001b[0m \u001b[0mElementTree\u001b[0m\u001b[0;34m(\u001b[0m\u001b[0;34m)\u001b[0m\u001b[0;34m\u001b[0m\u001b[0;34m\u001b[0m\u001b[0m\n\u001b[0;32m-> 1197\u001b[0;31m     \u001b[0mtree\u001b[0m\u001b[0;34m.\u001b[0m\u001b[0mparse\u001b[0m\u001b[0;34m(\u001b[0m\u001b[0msource\u001b[0m\u001b[0;34m,\u001b[0m \u001b[0mparser\u001b[0m\u001b[0;34m)\u001b[0m\u001b[0;34m\u001b[0m\u001b[0;34m\u001b[0m\u001b[0m\n\u001b[0m\u001b[1;32m   1198\u001b[0m     \u001b[0;32mreturn\u001b[0m \u001b[0mtree\u001b[0m\u001b[0;34m\u001b[0m\u001b[0;34m\u001b[0m\u001b[0m\n\u001b[1;32m   1199\u001b[0m \u001b[0;34m\u001b[0m\u001b[0m\n",
      "\u001b[0;32m/usr/local/Cellar/python/3.7.4/Frameworks/Python.framework/Versions/3.7/lib/python3.7/xml/etree/ElementTree.py\u001b[0m in \u001b[0;36mparse\u001b[0;34m(self, source, parser)\u001b[0m\n\u001b[1;32m    585\u001b[0m         \u001b[0mclose_source\u001b[0m \u001b[0;34m=\u001b[0m \u001b[0;32mFalse\u001b[0m\u001b[0;34m\u001b[0m\u001b[0;34m\u001b[0m\u001b[0m\n\u001b[1;32m    586\u001b[0m         \u001b[0;32mif\u001b[0m \u001b[0;32mnot\u001b[0m \u001b[0mhasattr\u001b[0m\u001b[0;34m(\u001b[0m\u001b[0msource\u001b[0m\u001b[0;34m,\u001b[0m \u001b[0;34m\"read\"\u001b[0m\u001b[0;34m)\u001b[0m\u001b[0;34m:\u001b[0m\u001b[0;34m\u001b[0m\u001b[0;34m\u001b[0m\u001b[0m\n\u001b[0;32m--> 587\u001b[0;31m             \u001b[0msource\u001b[0m \u001b[0;34m=\u001b[0m \u001b[0mopen\u001b[0m\u001b[0;34m(\u001b[0m\u001b[0msource\u001b[0m\u001b[0;34m,\u001b[0m \u001b[0;34m\"rb\"\u001b[0m\u001b[0;34m)\u001b[0m\u001b[0;34m\u001b[0m\u001b[0;34m\u001b[0m\u001b[0m\n\u001b[0m\u001b[1;32m    588\u001b[0m             \u001b[0mclose_source\u001b[0m \u001b[0;34m=\u001b[0m \u001b[0;32mTrue\u001b[0m\u001b[0;34m\u001b[0m\u001b[0;34m\u001b[0m\u001b[0m\n\u001b[1;32m    589\u001b[0m         \u001b[0;32mtry\u001b[0m\u001b[0;34m:\u001b[0m\u001b[0;34m\u001b[0m\u001b[0;34m\u001b[0m\u001b[0m\n",
      "\u001b[0;31mFileNotFoundError\u001b[0m: [Errno 2] No such file or directory: 'mediawiki.xml'"
     ]
    }
   ],
   "source": [
    "#Get xml file from https://www.mediawiki.org/wiki/Special:Export\n",
    "\n",
    "import xml.etree.ElementTree as ET\n",
    "import codecs\n",
    "import re\n",
    "import os\n",
    " \n",
    "tree = ET.parse('mediawiki.xml')\n",
    "root = tree.getroot()\n",
    "path = 'articles-corpus//'\n",
    "url  = '{http://www.mediawiki.org/xml/export-0.10/}page'"
   ]
  },
  {
   "cell_type": "code",
   "execution_count": 11,
   "metadata": {},
   "outputs": [],
   "source": [
    "for i,page in enumerate(root.findall(url)):\n",
    "    for p in page:\n",
    "        r_tag = \"{http://www.mediawiki.org/xml/export-0.10/}revision\"\n",
    "        if p.tag == r_tag:\n",
    "            for x in p:\n",
    "                tag = \"{http://www.mediawiki.org/xml/export-0.10/}text\"\n",
    "                if x.tag == tag:\n",
    "                    text = x.text\n",
    "                    if not text == None:\n",
    "                        # Extracting the text portion from the article\n",
    "                        text = text[:text.find(\"==\")]     \n",
    " \n",
    "                        # <em><strong>Cleaning of Text (described in Section 2)</strong></em>\n",
    "                        # Printing the article\n",
    "                        print (text)\n",
    "                        print ('\\n====================================\\n')\n"
   ]
  },
  {
   "cell_type": "code",
   "execution_count": 3,
   "metadata": {},
   "outputs": [
    {
     "name": "stderr",
     "output_type": "stream",
     "text": [
      "[nltk_data] Downloading package stopwords to\n",
      "[nltk_data]     /Users/yiyuan/nltk_data...\n",
      "[nltk_data]   Package stopwords is already up-to-date!\n"
     ]
    }
   ],
   "source": [
    "\n",
    "import nltk\n",
    "nltk.download('stopwords')\n",
    "from nltk.corpus import stopwords\n",
    "from nltk.stem.wordnet import WordNetLemmatizer\n",
    "import string\n",
    " \n",
    "stop    = set(stopwords.words('english'))\n",
    "exclude = set(string.punctuation)\n",
    "lemma   = WordNetLemmatizer()\n",
    " \n",
    "# pass the article text as string \"doc\"\n",
    "def clean(doc):\n",
    " \n",
    "  # remove stop words &amp; punctuation, and lemmatize words\n",
    "  s_free  = \" \".join([i for i in doc.lower().split() if i not in stop])\n",
    "  p_free  = ''.join(ch for ch in s_free if ch not in exclude)\n",
    "  lemm    = \" \".join(lemma.lemmatize(word) for word in p_free.split())\n",
    "  words   = lemm.split()\n",
    " \n",
    "  # only take words which are greater than 2 characters\n",
    "  cleaned = [word for word in words if len(word) &gt > 2]\n",
    "  return cleaned\n"
   ]
  },
  {
   "cell_type": "code",
   "execution_count": 6,
   "metadata": {},
   "outputs": [],
   "source": [
    "article_txt=''"
   ]
  },
  {
   "cell_type": "code",
   "execution_count": 9,
   "metadata": {},
   "outputs": [
    {
     "name": "stdout",
     "output_type": "stream",
     "text": [
      "\n"
     ]
    },
    {
     "ename": "NameError",
     "evalue": "name 'f' is not defined",
     "output_type": "error",
     "traceback": [
      "\u001b[0;31m---------------------------------------------------------------------------\u001b[0m",
      "\u001b[0;31mNameError\u001b[0m                                 Traceback (most recent call last)",
      "\u001b[0;32m<ipython-input-9-c354fd3daff1>\u001b[0m in \u001b[0;36m<module>\u001b[0;34m\u001b[0m\n\u001b[1;32m     64\u001b[0m \u001b[0;34m\u001b[0m\u001b[0m\n\u001b[1;32m     65\u001b[0m \u001b[0mprint\u001b[0m\u001b[0;34m(\u001b[0m\u001b[0marticle_txt\u001b[0m\u001b[0;34m)\u001b[0m\u001b[0;34m\u001b[0m\u001b[0;34m\u001b[0m\u001b[0m\n\u001b[0;32m---> 66\u001b[0;31m \u001b[0mf\u001b[0m\u001b[0;34m.\u001b[0m\u001b[0mclose\u001b[0m\u001b[0;34m(\u001b[0m\u001b[0;34m)\u001b[0m\u001b[0;34m\u001b[0m\u001b[0;34m\u001b[0m\u001b[0m\n\u001b[0m",
      "\u001b[0;31mNameError\u001b[0m: name 'f' is not defined"
     ]
    }
   ],
   "source": [
    "# remove text written between double curly braces\n",
    "article_txt = re.sub(r\"{{.*}}\",\"\",article_txt)\n",
    " \n",
    "# remove file attachments\n",
    "article_txt = re.sub(r\"\\[\\[File:.*\\]\\]\",\"\",article_txt)\n",
    " \n",
    "# remove Image attachments\n",
    "article_txt = re.sub(r\"\\[\\[Image:.*\\]\\]\",\"\",article_txt)\n",
    " \n",
    "# remove unwanted lines starting from special characters\n",
    "article_txt = re.sub(r\"\\n: \\'\\'.*\",\"\",article_txt)\n",
    "article_txt = re.sub(r\"\\n!.*\",\"\",article_txt)\n",
    "article_txt = re.sub(r\"^:\\'\\'.*\",\"\",article_txt)\n",
    " \n",
    "# remove non-breaking space symbols\n",
    "article_txt = re.sub(r\"&amp;nbsp\",\"\",article_txt)\n",
    " \n",
    "# remove URLs link\n",
    "article_txt = re.sub(r\"http\\S+\",\"\",article_txt)\n",
    " \n",
    "# remove digits from text\n",
    "article_txt = re.sub(r\"\\d+\",\"\",article_txt)\n",
    " \n",
    "# remove text written between small braces\n",
    "article_txt = re.sub(r\"\\(.*\\)\",\"\",article_txt)\n",
    " \n",
    "# remove sentence which tells category of article\n",
    "article_txt = re.sub(r\"Category:.*\",\"\",article_txt)\n",
    " \n",
    "# remove the sentences inside infobox or taxobox\n",
    "article_txt = re.sub(r\"\\| .*\",\"\",article_txt)\n",
    "article_txt = re.sub(r\"\\n\\|.*\",\"\",article_txt)\n",
    "article_txt = re.sub(r\"\\n \\|.*\",\"\",article_txt)\n",
    "article_txt = re.sub(r\".* \\|\\n\",\"\",article_txt)\n",
    "article_txt = re.sub(r\".*\\|\\n\",\"\",article_txt)\n",
    " \n",
    "# remove infobox or taxobox\n",
    "article_txt = re.sub(r\"{{Infobox.*\",\"\",article_txt)\n",
    "article_txt = re.sub(r\"{{infobox.*\",\"\",article_txt)\n",
    "article_txt = re.sub(r\"{{taxobox.*\",\"\",article_txt)\n",
    "article_txt = re.sub(r\"{{Taxobox.*\",\"\",article_txt)\n",
    "article_txt = re.sub(r\"{{ Infobox.*\",\"\",article_txt)\n",
    "article_txt = re.sub(r\"{{ infobox.*\",\"\",article_txt)\n",
    "article_txt = re.sub(r\"{{ taxobox.*\",\"\",article_txt)\n",
    "article_txt = re.sub(r\"{{ Taxobox.*\",\"\",article_txt)\n",
    " \n",
    "# remove lines starting from *\n",
    "article_txt = re.sub(r\"\\* .*\",\"\",article_txt)\n",
    " \n",
    "# remove text written between angle bracket\n",
    "article_txt = re.sub(r\"\",\"\",article_txt)\n",
    " \n",
    "# remove new line character\n",
    "article_txt = re.sub(r\"\\n\",\"\",article_txt)  \n",
    " \n",
    "# replace all punctuations with space\n",
    "article_txt = re.sub(r\"\\!|\\\"|\\#|\\$|\\%|\\&amp;|\\'|\\(|\\)|\\*|\\+|\\,|\\-|\\.|\\/|\\:|\\;|\\|\\?|\\@|\\[|\\\\|\\]|\\^|\\_|\\`|\\{|\\||\\}|\\~\",\" \",article_txt)\n",
    " \n",
    "# replace consecutive multiple space with single space\n",
    "article_txt = re.sub(r\" +\",\" \",article_txt)\n",
    " \n",
    "# replace non-breaking space with regular space\n",
    "article_txt = article_txt.replace(u'\\xa0', u' ')\n",
    " \n",
    "print(article_txt)\n",
    "f.close()"
   ]
  },
  {
   "cell_type": "code",
   "execution_count": null,
   "metadata": {},
   "outputs": [],
   "source": []
  }
 ],
 "metadata": {
  "kernelspec": {
   "display_name": "Python 3",
   "language": "python",
   "name": "python3"
  },
  "language_info": {
   "codemirror_mode": {
    "name": "ipython",
    "version": 3
   },
   "file_extension": ".py",
   "mimetype": "text/x-python",
   "name": "python",
   "nbconvert_exporter": "python",
   "pygments_lexer": "ipython3",
   "version": "3.7.4"
  },
  "latex_envs": {
   "LaTeX_envs_menu_present": true,
   "autoclose": false,
   "autocomplete": true,
   "bibliofile": "biblio.bib",
   "cite_by": "apalike",
   "current_citInitial": 1,
   "eqLabelWithNumbers": true,
   "eqNumInitial": 1,
   "hotkeys": {
    "equation": "Ctrl-E",
    "itemize": "Ctrl-I"
   },
   "labels_anchors": false,
   "latex_user_defs": false,
   "report_style_numbering": false,
   "user_envs_cfg": false
  },
  "toc": {
   "base_numbering": 1,
   "nav_menu": {},
   "number_sections": true,
   "sideBar": true,
   "skip_h1_title": false,
   "title_cell": "Table of Contents",
   "title_sidebar": "Contents",
   "toc_cell": false,
   "toc_position": {},
   "toc_section_display": true,
   "toc_window_display": true
  }
 },
 "nbformat": 4,
 "nbformat_minor": 2
}
