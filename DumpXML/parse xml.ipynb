{
 "cells": [
  {
   "cell_type": "code",
   "execution_count": 66,
   "metadata": {},
   "outputs": [],
   "source": [
    "import urllib.request\n",
    "import xml.etree.ElementTree as et\n",
    "import os\n",
    "import re"
   ]
  },
  {
   "cell_type": "code",
   "execution_count": 67,
   "metadata": {},
   "outputs": [],
   "source": [
    "url='https://en.wikipedia.org/wiki/Special:Export/Sapiens:_A_Brief_History_of_Humankind'\n",
    "connection=urllib.request.urlopen(url)"
   ]
  },
  {
   "cell_type": "code",
   "execution_count": 68,
   "metadata": {},
   "outputs": [],
   "source": [
    " \n",
    "tree = et.parse(connection)\n",
    "root = tree.getroot()"
   ]
  },
  {
   "cell_type": "code",
   "execution_count": 69,
   "metadata": {},
   "outputs": [
    {
     "name": "stdout",
     "output_type": "stream",
     "text": [
      "{http://www.mediawiki.org/xml/export-0.10/}namespace\n",
      "{http://www.mediawiki.org/xml/export-0.10/}namespace\n",
      "{http://www.mediawiki.org/xml/export-0.10/}namespace\n",
      "{http://www.mediawiki.org/xml/export-0.10/}namespace\n",
      "{http://www.mediawiki.org/xml/export-0.10/}namespace\n",
      "{http://www.mediawiki.org/xml/export-0.10/}namespace\n",
      "{http://www.mediawiki.org/xml/export-0.10/}namespace\n",
      "{http://www.mediawiki.org/xml/export-0.10/}namespace\n",
      "{http://www.mediawiki.org/xml/export-0.10/}namespace\n",
      "{http://www.mediawiki.org/xml/export-0.10/}namespace\n",
      "{http://www.mediawiki.org/xml/export-0.10/}namespace\n",
      "{http://www.mediawiki.org/xml/export-0.10/}namespace\n",
      "{http://www.mediawiki.org/xml/export-0.10/}namespace\n",
      "{http://www.mediawiki.org/xml/export-0.10/}namespace\n",
      "{http://www.mediawiki.org/xml/export-0.10/}namespace\n",
      "{http://www.mediawiki.org/xml/export-0.10/}namespace\n",
      "{http://www.mediawiki.org/xml/export-0.10/}namespace\n",
      "{http://www.mediawiki.org/xml/export-0.10/}namespace\n",
      "{http://www.mediawiki.org/xml/export-0.10/}namespace\n",
      "{http://www.mediawiki.org/xml/export-0.10/}namespace\n",
      "{http://www.mediawiki.org/xml/export-0.10/}namespace\n",
      "{http://www.mediawiki.org/xml/export-0.10/}namespace\n",
      "{http://www.mediawiki.org/xml/export-0.10/}namespace\n",
      "{http://www.mediawiki.org/xml/export-0.10/}namespace\n",
      "{http://www.mediawiki.org/xml/export-0.10/}namespace\n",
      "{http://www.mediawiki.org/xml/export-0.10/}namespace\n",
      "{http://www.mediawiki.org/xml/export-0.10/}namespace\n",
      "{http://www.mediawiki.org/xml/export-0.10/}namespace\n",
      "{http://www.mediawiki.org/xml/export-0.10/}namespace\n",
      "{http://www.mediawiki.org/xml/export-0.10/}namespace\n",
      "{http://www.mediawiki.org/xml/export-0.10/}namespace\n",
      "{http://www.mediawiki.org/xml/export-0.10/}namespace\n",
      "{http://www.mediawiki.org/xml/export-0.10/}namespace\n",
      "{http://www.mediawiki.org/xml/export-0.10/}namespace\n",
      "{http://www.mediawiki.org/xml/export-0.10/}id\n",
      "{http://www.mediawiki.org/xml/export-0.10/}parentid\n",
      "{http://www.mediawiki.org/xml/export-0.10/}timestamp\n",
      "{http://www.mediawiki.org/xml/export-0.10/}contributor\n",
      "{http://www.mediawiki.org/xml/export-0.10/}comment\n",
      "{http://www.mediawiki.org/xml/export-0.10/}model\n",
      "{http://www.mediawiki.org/xml/export-0.10/}format\n",
      "{http://www.mediawiki.org/xml/export-0.10/}text\n",
      "{http://www.mediawiki.org/xml/export-0.10/}sha1\n"
     ]
    }
   ],
   "source": [
    "for elem in root:\n",
    "    for subelem in elem:\n",
    "        for subtext in subelem:\n",
    "          print (subtext.tag)"
   ]
  },
  {
   "cell_type": "code",
   "execution_count": 70,
   "metadata": {},
   "outputs": [],
   "source": [
    "texttag='{http://www.mediawiki.org/xml/export-0.10/}text'"
   ]
  },
  {
   "cell_type": "code",
   "execution_count": 71,
   "metadata": {},
   "outputs": [
    {
     "name": "stdout",
     "output_type": "stream",
     "text": [
      "{{infobox book | <!-- See Wikipedia:WikiProject_Novels or Wikipedia:WikiProject_Books -->\n",
      "| name         = Sapiens<br />A Brief History of Humankind \n",
      "| image        = Sapiens A Brief History of Humankind.jpg\n",
      "| caption      = Cover of ''Sapiens: A Brief History of Humankind''\n",
      "| border       = blue\n",
      "| author       = [[Yuval Noah Harari]]\n",
      "| title_orig   = קיצור תולדות האנושות\n",
      "| country      = Israel\n",
      "| language     = Hebrew, English\n",
      "| genre        = Non-fiction\n",
      "| subject      = History, human evolution\n",
      "| publisher    = [[Harper (publisher)|Harper]]\n",
      "| release_date = 2011 (in Hebrew), 2014 (in English)\n",
      "| media_type   = \n",
      "| pages        = 443\n",
      "| isbn         = 978-0062316097\n",
      "| followed_by = [[Homo Deus: A Brief History of Tomorrow]]\n",
      "}}\n",
      "'''''Sapiens: A Brief History of Humankind''''' ({{lang-he|קיצור תולדות האנושות}}, [Ḳitsur toldot ha-enoshut]) is a book by [[Yuval Noah Harari]] first published in [[Hebrew]] in [[Israel]] in 2011,<ref>Harari, Yuval Noah; Vintage (2014). ''Sapiens: A Brief History of Humankind''. {{ISBN|9780099590088}}.</ref> and in [[English language|English]] in 2014.<ref name=Guardian_strawson>{{cite news|last1=Strawson|first1=Galen|title=Sapiens: A Brief History of Humankind by Yuval Noah Harari – review|url=https://www.theguardian.com/books/2014/sep/11/sapiens-brief-history-humankind-yuval-noah-harari-review|accessdate=29 October 2014|work=The Guardian|date=11 September 2014}}</ref><ref name=Telegraph_Payne>{{cite news|last1=Payne|first1=Tom|title=Sapiens: A Brief History of Humankind by Yuval Noah Harari, review: 'urgent questions'|url=https://www.telegraph.co.uk/culture/books/bookreviews/11120947/Sapiens-a-Brief-History-of-Humankind-by-Yuval-Noah-Harari-review-urgent-questions.html|accessdate=29 October 2014|work=The Telegraph|date=26 September 2014}}</ref> The book surveys the history of humankind from the [[evolution]] of archaic human species in the [[Stone Age]] up to the twenty-first century, focusing on ''[[Homo sapiens]]''. The account is situated within a framework provided by the [[natural science]]s, particularly [[evolutionary biology]].\n",
      "\n",
      "The reception of the book has been mixed. Whereas the general public's reaction to the book has been positive, scholars with relevant subject matter expertise have been very critical of the book.\n",
      "\n",
      "==Summary==\n",
      "Harari's work situates its account of human history within a framework provided by the [[natural science]]s, particularly [[evolutionary biology]]: he sees biology as setting the limits of possibility for human activity, and sees culture as shaping what happens within those bounds. The academic discipline of history is the account of cultural change.\n",
      "\n",
      "Harari surveys the history of humankind from the [[evolution]] of archaic human species in the [[Stone Age]] up to the twenty-first century, focusing on ''[[Homo sapiens]]''. He divides the history of Sapiens into four major parts:<ref>Ben Shephard. [https://www.theguardian.com/books/2014/sep/21/sapiens-brief-history-mankind-review-yuval-noah-harari Sapiens: A Brief History of Humankind review – thrilling story, dark message], ''The Guardian'', 21 September 2014.</ref>\n",
      "# The [[Human evolution (origins of society and culture)|Cognitive Revolution]] (c. 70,000 BCE, when Sapiens evolved imagination).\n",
      "# The [[Neolithic Revolution|Agricultural Revolution]] (c. 10,000 BCE, the development of agriculture).\n",
      "# The [[Globalization|unification of humankind]] (the gradual consolidation of human political organisations towards one global empire).\n",
      "# The [[Scientific Revolution]] (c. 1500 CE, the emergence of objective science).\n",
      "\n",
      "Harari's main argument is that Sapiens came to dominate the world because it is the only animal that can [[cooperate]] flexibly in large numbers. He argues that prehistoric Sapiens were a key cause of the extinction of other human species such as the [[Neanderthals]], along with numerous other [[megafauna]]. He further argues that the ability of Sapiens to cooperate in large numbers arises from its unique capacity to believe in things existing purely in the [[imagination]], such as [[gods]], [[nations]], [[money]], and [[human rights]]. He argues that these beliefs give rise to discrimination – whether that be racial,sexual or political and it is potentially impossible to have a completely unbiased society. Harari claims that all large-scale human cooperation systems – including [[religions]], [[political structures]], [[trade|trade networks]], and [[legal institutions]] – owe their emergence to Sapiens' distinctive cognitive capacity for [[fiction]].<ref>[http://www.ynharari.com/book/sapiens/ Book overview at Yuval Noah Harari's website]</ref> Accordingly, Harari regards money as a system of [[Trust (emotion)|mutual trust]] and sees [[political system|political]] and [[economic systems]] as more or less identical with religions.\n",
      "\n",
      "Harari's key claim regarding the Agricultural Revolution is that while it promoted population growth for Sapiens and co-evolving species like wheat and cows, it made the lives of most individuals (and animals) worse than they had been when Sapiens were mostly hunter-gatherers, since their diet and daily lives became significantly less varied. Humans' violent treatment of other animals is indeed a theme that runs throughout the book.\n",
      "\n",
      "In discussing the unification of humankind, Harari argues that over its history, the trend for Sapiens has increasingly been towards political and economic interdependence. For centuries, the majority of humans have lived in empires, and capitalist [[globalization]] is effectively producing one, global empire. Harari argues that money, empires, and [[Universalism|universal religions]] are the principal drivers of this process.\n",
      "\n",
      "Harari sees the Scientific Revolution as founded on innovation in European thought, whereby elites became willing to admit to, and hence to try to remedy, their [[ignorance]]. He sees this as one driver of early modern European imperialism and of the current convergence of human cultures. Harari also emphasises the lack of research into the history of [[happiness]], positing that people today are not significantly happier than in past eras.<ref>Harari, Yuval Noah. \n",
      "[https://www.theguardian.com/books/2014/sep/05/were-we-happier-in-the-stone-age Were we happier in the stone age?], ''The Guardian'', September 5, 2014.</ref> He concludes by considering how modern technology may soon end the species as we know it, as it ushers in [[genetic engineering]], [[immortality]], and [[non-organic life]]. Humans have, in Harari's chosen [[metaphor]], become [[deity|gods]]: they can create species.\n",
      "\n",
      "Harari cites [[Jared Diamond]]'s ''[[Guns, Germs, and Steel]]'' (1997) as one of the greatest inspirations for the book by showing that it was possible to \"ask very big questions and answer them scientifically\".<ref>{{cite journal|last=[[CBC Radio 1]]|first=IDEAS with [[Paul Kennedy (host)|Paul Kennedy]]|date=January 12, 2015|title=Sapiens|url=http://www.cbc.ca/radio/ideas/sapiens-1.2921626|journal=|publisher=}}</ref>\n",
      "\n",
      "==Reception==\n",
      "===Public reception===\n",
      "First published in Hebrew in 2011 and then in English in 2014, the book was translated into 45 languages (as of June 2017).<ref>{{cite news|last1=Barnea|first1=Nahum|title=Lifnei she-Sorfim et ha-Machashefoth (Before they burn the witches)|issue=Ha-Musaf la-Shabat, weekend supplement|publisher=Yedioth Ahronoth|date=2017-06-16}}</ref> It also made to [[The New York Times Best Seller list|''The New York Times'' best-seller list]] and won the National Library of China's [[Wenjin Book Award]] for the best book published in 2014.<ref>[http://newscontent.cctv.com/NewJsp/news.jsp?fileId=293098 China Book Award], [[CCTV News]], April 23, 2015.</ref><ref>[http://europe.chinadaily.com.cn/culture/2016-05/18/content_25337001.htm What makes us human], ''China Daily'', May 18, 2016, p. 20.</ref> Writing four years after its English-language publication, Alex Preston wrote in ''[[The Guardian]]'' that ''Sapiens'' had become a \"publishing phenomenon\" with \"wild success\" symptomatic of a broader trend toward \"intelligent, challenging nonfiction, often books that are several years old\".<ref name=GuardianPreston20180729>{{cite news |last1=Preston |first1=Alex |title=How the ‘brainy’ book became a publishing phenomenon |url=https://www.theguardian.com/books/2018/jul/29/why-brainy-book-became-publishing-phenonmenon |work=The Guardian |date=July 29, 2018  |archiveurl=https://web.archive.org/web/20180731045820/https://www.theguardian.com/books/2018/jul/29/why-brainy-book-became-publishing-phenonmenon |archivedate=July 31, 2018 |deadurl=no }}</ref> Concurrently, ''The Guardian'' listed the book as among the ten \"best brainy books of the decade\".<ref name=GuardianList20180729>{{cite news |title=Best ‘brainy’ books of this decade |url=https://www.theguardian.com/books/2018/jul/29/10-best-brainy-books-last-decade |work=The Guardian |date=July 29, 2018 |archiveurl=https://web.archive.org/web/20180731095515/https://www.theguardian.com/books/2018/jul/29/10-best-brainy-books-last-decade |archivedate=July 31, 2018 |deadurl=no }}</ref> The [[Royal Society of Biologists]] in the UK shortlisted the book in its 2015 Book Awards.<ref>{{Cite web|url=https://www.rsb.org.uk//links/161-biologist/book-reviews/1415-sapiens-a-brief-history-of-humankind|title=Sapiens: A Brief History of Humankind|website=RSB|access-date=2019-07-02}}</ref>\n",
      "\n",
      "[[Bill Gates]] ranked ''Sapiens'' among his ten favorite books.<ref>{{Cite news|url=https://www.nytimes.com/2016/05/20/t-magazine/my-10-favorite-books-bill-gates.html|title=My 10 Favorite Books: Bill Gates|last=Gates|first=Bill|date=2016-05-20|work=The New York Times|access-date=2019-01-28|language=en-US|issn=0362-4331}}</ref>\n",
      "\n",
      "===Scholarly reception===\n",
      "Anthropologist [[Christopher Robert Hallpike]] reviewed the book and did not find any \"serious contribution to knowledge\". Hallpike suggested that \"...whenever his facts are broadly correct they are not new, and whenever he tries to strike out on his own he often gets things wrong, sometimes seriously\". He considered it an [[infotainment]] publishing event offering a \"wild intellectual ride across the landscape of history, dotted with sensational displays of speculation, and ending with blood-curdling predictions about human destiny.\"<ref>Hallpike, C. R. [http://www.newenglishreview.org/custpage.cfm?frm=189085&sec_id=189085 A Response to Yuval Harari's 'Sapiens: A Brief History of Humankind'], ''New English Review'', December 2017.</ref>\n",
      "\n",
      "Science journalist [[Charles C. Mann]] concluded in ''[[The Wall Street Journal]]'', \"There’s a whiff of dorm-room bull sessions about the author’s stimulating but often unsourced assertions.\"<ref>{{cite web|url=https://www.wsj.com/articles/book-review-sapiens-a-brief-history-of-humankind-by-yuval-noah-harari-1423261230|title=How Humankind Conquered the World|last1=Mann|first1=Charles C.|date=6 February 2015|website=Wall Street Journal|accessdate=15 June 2016}}</ref>\n",
      "\n",
      "Reviewing the book in ''[[The Washington Post]]'', evolutionary anthropologist [[Avi Tuschman]] points out problems stemming from the contradiction between Harari's \"freethinking scientific mind\" and his \"fuzzier worldview hobbled by political correctness\", but nonetheless wrote that \"Harari’s book is important reading for serious-minded, self-reflective sapiens.\"<ref>{{cite web|last1= Tuschman |first1=Avi|title=How humans became human|url=https://www.washingtonpost.com/opinions/our-kind-of-people/2015/03/13/78404422-b84c-11e4-aa05-1ce812b3fdd2_story.html|website=The Washington Post|accessdate=16 June 2016|date=16 June 2016}}</ref>\n",
      "\n",
      "Reviewing the book in ''[[The Guardian]]'', philosopher [[Galen Strawson]] concluded that among several other problems, \"Much of Sapiens is extremely interesting, and it is often well expressed. As one reads on, however, the attractive features of the book are overwhelmed by carelessness, exaggeration and sensationalism.\"<ref>{{cite web|last1=Strawson|first1=Galen|title=Sapiens: A Brief History of Humankind by Yuval Noah Harari – review|url=https://www.theguardian.com/books/2014/sep/11/sapiens-brief-history-humankind-yuval-noah-harari-review|website=The Guardian|accessdate=15 June 2016|date=11 September 2014}}</ref>\n",
      "\n",
      "Reviewing the book in ''[[The New Atlantis (journal)|The New Atlantis]]'', John Sexton, graduate student at the University of Chicago, concluded that \"The book is fundamentally unserious and undeserving of the wide acclaim and attention it has been receiving\".<ref>{{Cite web|url=https://www.thenewatlantis.com/publications/a-reductionist-history-of-humankind|title=A Reductionist History of Humankind|website=The New Atlantis|access-date=2018-08-15}}</ref>\n",
      "\n",
      "==Bibliographic details==\n",
      "The original Hebrew publication was first issued in 2011 as ''קיצור תולדות האנושות'' [''Ḳitsur toldot ha-enoshut''] (Or Yehuda: [[Kinneret Zmora-Bitan Dvir|Kinneret, Zmora-Bitan, Dvir]]).\n",
      "\n",
      "The English translation was first published in 2014 as Yuval Noah Harari, ''Sapiens: A Brief History of Humankind'', \"translated by the author with the help of John Purcell and Haim Watzman\", simultaneously in London by Harvill Secker {{ISBN|9781846558238}} (hardback), {{ISBN|9781846558245}} (trade paperback)<ref>{{Cite web|url=http://idiscover.lib.cam.ac.uk/primo-explore/search?vid=44CAM_PROD&lang=en_US&tab=default_tab&query=any,contains,(UkCU)5796565-cambrdgedb&search_scope=default_scope&sortby=rank|title=A brief history of human kind|last=|first=|date=|website=idiscover.lib.cam.ac.uk|archive-url=|archive-date=|dead-url=|access-date=2019-07-25}}</ref> and in Canada by Signal ({{ISBN|978-0-7710-3850-1}} (bound), {{ISBN|978-0-7710-3852-5}} (html)). It was then republished under the same title but without the information about the translators in London by Vintage Books, apparently in 2015 ({{ISBN|9780099590088}} (paperback)).\n",
      "\n",
      "==See also==\n",
      "* ''[[Homo Deus: A Brief History of Tomorrow]]''\n",
      "* ''[[The Outline of History]]'' ([[H. G. Wells]])\n",
      "* ''[[Guns, Germs and Steel|Guns, Germs and Steel: A short history of everybody for the last 13,000 years]]'' ([[Jared Diamond]])\n",
      "\n",
      "== Notes and references==\n",
      "{{Reflist}}\n",
      "\n",
      "==External links==\n",
      "* [https://web.archive.org/web/20171212073520/https://www.chathamhouse.org/sites/files/chathamhouse/field/field_document/Interview%20-%20Yuval%20Harari.pdf Yuval Harari interviewed by Alan Philps about his book], ''The World Today'', September 2015, Volume 71, Number 5.\n",
      "* [[Bill Gates]]. [https://www.gatesnotes.com/Books/Sapiens-A-Brief-History-of-Humankind How Did Humans Get Smart?], ''Gates Notes'', May 17, 2016.\n",
      "* Dirk Lindebaum. [https://web.archive.org/web/20171212081538/http://orca.cf.ac.uk/88512/1/Management%20Learning-2015-Lindebaum-636-8.pdf Sapiens: A brief history of humankind (Book Review)], ''Management Learning'', 46 (5) 2015, pp.&nbsp;636–638. DOI: 10.1177/1350507615602981\n",
      "\n",
      "{{Portal bar|Books|History}}\n",
      "{{Normdaten}}\n",
      "\n",
      "[[Category:2011 non-fiction books]]\n",
      "[[Category:History books about civilization]]\n",
      "[[Category:Books by Yuval Noah Harari]]\n",
      "[[Category:Anthropology books]]\n"
     ]
    }
   ],
   "source": [
    "for elem in root:\n",
    "    for subelem in elem:\n",
    "        for subtext in subelem:\n",
    "            if (subtext.tag==texttag):\n",
    "                print (subtext.text)"
   ]
  },
  {
   "cell_type": "code",
   "execution_count": null,
   "metadata": {},
   "outputs": [],
   "source": []
  }
 ],
 "metadata": {
  "kernelspec": {
   "display_name": "Python 3",
   "language": "python",
   "name": "python3"
  },
  "language_info": {
   "codemirror_mode": {
    "name": "ipython",
    "version": 3
   },
   "file_extension": ".py",
   "mimetype": "text/x-python",
   "name": "python",
   "nbconvert_exporter": "python",
   "pygments_lexer": "ipython3",
   "version": "3.7.4"
  },
  "latex_envs": {
   "LaTeX_envs_menu_present": true,
   "autoclose": false,
   "autocomplete": true,
   "bibliofile": "biblio.bib",
   "cite_by": "apalike",
   "current_citInitial": 1,
   "eqLabelWithNumbers": true,
   "eqNumInitial": 1,
   "hotkeys": {
    "equation": "Ctrl-E",
    "itemize": "Ctrl-I"
   },
   "labels_anchors": false,
   "latex_user_defs": false,
   "report_style_numbering": false,
   "user_envs_cfg": false
  },
  "toc": {
   "base_numbering": 1,
   "nav_menu": {},
   "number_sections": true,
   "sideBar": true,
   "skip_h1_title": false,
   "title_cell": "Table of Contents",
   "title_sidebar": "Contents",
   "toc_cell": false,
   "toc_position": {},
   "toc_section_display": true,
   "toc_window_display": false
  }
 },
 "nbformat": 4,
 "nbformat_minor": 2
}
